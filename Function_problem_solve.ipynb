{
 "cells": [
  {
   "cell_type": "markdown",
   "id": "934a2453",
   "metadata": {},
   "source": [
    "1. you have to write a fun which will take string and return a len of \n",
    "it without using a inbuilt fun len\n",
    "2. write a fun which will be able to print an index of all premitive element which you will pass \n",
    "3. Write a fun which will take input as a dict and give me out as a list of all the values \n",
    "even in case of 2 level nesting it should work . \n",
    "4. write a fun which will take another function as an input and return me an output \n",
    "5. write a function whihc will take multiple list as a input and give me concatnation of all the element as \n",
    "and output \n",
    "6. write a function which will be able to take a list as an input return an index of each element \n",
    "like a inbuilt index function but even if we have repetative element it should return index \n",
    "7. Write a function which will whould return list of all the file name from a directory . \n",
    "8. write a function which will be able to show your system configuration . \n",
    "9. write a function which will be able to show date and time  . \n",
    "10. write a function whihc will be able to read a image file and show it to you .\n",
    "11. write a function which can read video file and play for you . \n",
    "12. write a function whihc can move a file from one directory to another directory . \n",
    "13. write a function which will be able to shutdonw your system . \n",
    "14. write a function whihc will be able to access your mail . \n",
    "15. write a func bywhcih i can send a mail to anyone \n",
    "16. write a func to read a complete PDf file . \n",
    "17. write a function to read a word file . \n",
    "18. write a function which can help you to filter only word file from a directory . \n",
    "19. write a function by which you can print an ip address of your system . \n",
    "20. write a function by which you will be able to append two PDF files . "
   ]
  },
  {
   "cell_type": "markdown",
   "id": "338ce31a",
   "metadata": {},
   "source": [
    "# Solution"
   ]
  },
  {
   "cell_type": "markdown",
   "id": "2c427569",
   "metadata": {},
   "source": [
    "### Question:1\n",
    "* you have to write a fun which will take string and return a len of it without using a inbuilt fun len."
   ]
  },
  {
   "cell_type": "code",
   "execution_count": 3,
   "id": "19945b1c",
   "metadata": {},
   "outputs": [
    {
     "data": {
      "text/plain": [
       "14"
      ]
     },
     "execution_count": 3,
     "metadata": {},
     "output_type": "execute_result"
    }
   ],
   "source": [
    "def len_str(s):\n",
    "    '''This function returns the length of given string'''\n",
    "    count=0\n",
    "    if type(s)==str:\n",
    "        for i in s:\n",
    "            count=count+1\n",
    "        return count\n",
    "\n",
    "len_str('hi how are you')"
   ]
  },
  {
   "cell_type": "markdown",
   "id": "61a28dc8",
   "metadata": {},
   "source": [
    "### Question:2\n",
    "* write a fun which will be able to print an index of all premitive element which you will pass."
   ]
  },
  {
   "cell_type": "code",
   "execution_count": 6,
   "id": "489260a9",
   "metadata": {},
   "outputs": [
    {
     "name": "stdout",
     "output_type": "stream",
     "text": [
      "Index of 34 is 0\n",
      "Index of 56 is 1\n",
      "Index of sanowar is 2\n",
      "Index of (3, 4, 5) is 3\n",
      "Index of [2, 3, 4] is 4\n"
     ]
    }
   ],
   "source": [
    "def element_index(l):\n",
    "    '''This function will return the index of all the premitive element'''\n",
    "    if type(l)==list or type(l)==tuple or type(l)==str:\n",
    "        for i in range(len(l)):\n",
    "            print(f'Index of {l[i]} is {i}')\n",
    "element_index([34,56,'sanowar',(3,4,5),[2,3,4]])"
   ]
  },
  {
   "cell_type": "markdown",
   "id": "3bd00eb4",
   "metadata": {},
   "source": [
    "### Question:3\n",
    "* Write a fun which will take input as a dict and give me out as a list of all the values even in case of 2 level nesting it should work ."
   ]
  },
  {
   "cell_type": "code",
   "execution_count": 27,
   "id": "aa99b840",
   "metadata": {},
   "outputs": [
    {
     "data": {
      "text/plain": [
       "[2, 3, 4, 5]"
      ]
     },
     "execution_count": 27,
     "metadata": {},
     "output_type": "execute_result"
    }
   ],
   "source": [
    "def dict_list(a):\n",
    "    '''The fun will take input as a dict and out put as a list; all the values at 2 level nesting'''\n",
    "    l=[]\n",
    "    for val in a.values():\n",
    "        if type(val)==int:\n",
    "            l.append(val)\n",
    "        elif type(val)==dict:\n",
    "                for i in val.values():\n",
    "                    l.append(i)\n",
    "    return l\n",
    "dict_list({'k1':2,'k2':3,'c':{'k3':4,'k4':5}}) "
   ]
  },
  {
   "cell_type": "markdown",
   "id": "d5680345",
   "metadata": {},
   "source": [
    "### Question:4\n",
    "write a fun which will take another function as an input and return me an output"
   ]
  },
  {
   "cell_type": "code",
   "execution_count": 32,
   "id": "b683433e",
   "metadata": {},
   "outputs": [
    {
     "data": {
      "text/plain": [
       "[0, 1, 2, 3, 4, 5]"
      ]
     },
     "execution_count": 32,
     "metadata": {},
     "output_type": "execute_result"
    }
   ],
   "source": [
    "def fun_input(n):\n",
    "    '''This is generated n numbers'''\n",
    "    return list(range(n))\n",
    "def fun_output(l):\n",
    "    l1=[]\n",
    "    if type(l)==list:\n",
    "        for i in l:\n",
    "            l1.append(i)\n",
    "    return l1 \n",
    "    \n",
    "fun_output(fun_input(6))"
   ]
  },
  {
   "cell_type": "markdown",
   "id": "1357c2c6",
   "metadata": {},
   "source": [
    "### Question:5\n",
    "write a function whihc will take multiple list as a input and give me concatnation of all the element as and output"
   ]
  },
  {
   "cell_type": "code",
   "execution_count": 41,
   "id": "8fd0c5ac",
   "metadata": {},
   "outputs": [
    {
     "data": {
      "text/plain": [
       "[7, 9, 2, 3, 3, 4, 5]"
      ]
     },
     "execution_count": 41,
     "metadata": {},
     "output_type": "execute_result"
    }
   ],
   "source": [
    "def fun_concat(l):\n",
    "    l1=[]\n",
    "    if type(l)==list:\n",
    "        for i in l:\n",
    "            if type(i)==int:\n",
    "                l1.append(i)\n",
    "            elif type(i)==list:\n",
    "                for j in i:\n",
    "                    if type(j)==int:\n",
    "                        l1.append(j)\n",
    "    return l1\n",
    "fun_concat([7,9,[2,3,4.8],[3,4,5,'hhh']])"
   ]
  },
  {
   "cell_type": "markdown",
   "id": "c0d8f3f4",
   "metadata": {},
   "source": [
    "### Question:6\n",
    "write a function which will be able to take a list as an input return an index of each element like a inbuilt index function but even if we have repetative element it should return index"
   ]
  },
  {
   "cell_type": "code",
   "execution_count": 52,
   "id": "3a73d52c",
   "metadata": {},
   "outputs": [
    {
     "name": "stdout",
     "output_type": "stream",
     "text": [
      "index of 2 is 0\n",
      "index of 3 is 1\n",
      "index of 4 is 2\n",
      "index of 5 is 3\n",
      "index of 5 is 4\n",
      "index of 6 is 5\n",
      "index of 6 is 6\n"
     ]
    }
   ],
   "source": [
    "def list_index(l):\n",
    "    for idx, ele in enumerate(l):\n",
    "        print(f'index of {ele} is {idx}')\n",
    "        \n",
    "list_index([2,3,4,5,5,6,6])"
   ]
  },
  {
   "cell_type": "code",
   "execution_count": 51,
   "id": "e49cbf35",
   "metadata": {},
   "outputs": [
    {
     "data": {
      "text/plain": [
       "['index of 2 is 0',\n",
       " 'index of 2 is 1',\n",
       " 'index of 3 is 2',\n",
       " 'index of 3 is 3',\n",
       " 'index of 4 is 4',\n",
       " 'index of 5 is 5']"
      ]
     },
     "execution_count": 51,
     "metadata": {},
     "output_type": "execute_result"
    }
   ],
   "source": [
    "def idx_fun(a):\n",
    "    l=[]\n",
    "    if type(a)==list:\n",
    "        for i in range(len(a)):\n",
    "            l.append(f'index of {a[i]} is {i}')\n",
    "    return l\n",
    "idx_fun([2,2,3,3,4,5])"
   ]
  },
  {
   "cell_type": "markdown",
   "id": "6aaef23b",
   "metadata": {},
   "source": [
    "## Question: 7\n",
    "Write a function which will whould return list of all the file name from a directory ."
   ]
  },
  {
   "cell_type": "code",
   "execution_count": 68,
   "id": "726fbf3d",
   "metadata": {},
   "outputs": [
    {
     "data": {
      "text/plain": [
       "['Untitled Folder',\n",
       " 'Tuple.ipynb',\n",
       " 'Print_Operation.ipynb',\n",
       " 'mydict.py',\n",
       " 'Basic_str_list.ipynb',\n",
       " 'file sysetm.ipynb',\n",
       " '.DS_Store',\n",
       " 'Set.ipynb',\n",
       " 'Tuples , set , dict .ipynb',\n",
       " 'Function continued.ipynb',\n",
       " 'Exception handling class 1.ipynb',\n",
       " 'if_elif_else.ipynb',\n",
       " 'while_loop.ipynb',\n",
       " 'Untitled.ipynb',\n",
       " 'List_Tuple_Dict.ipynb',\n",
       " 'List_Tuple_Dict-Copy1.ipynb',\n",
       " 'Compression.ipynb',\n",
       " 'List.ipynb',\n",
       " 'file.ipynb',\n",
       " 'function_exercise.ipynb',\n",
       " 'practice problem python basic.ipynb',\n",
       " 'Python_Basic.docx',\n",
       " 'condition_practice.ipynb',\n",
       " 'String.ipynb',\n",
       " 'Data_Structures.ipynb',\n",
       " 'basic_function.ipynb',\n",
       " 'break_continue_pass.ipynb',\n",
       " 'google.txt',\n",
       " 'for_loop.ipynb',\n",
       " 'if else , for loop.ipynb',\n",
       " 'Basic_Operation.ipynb',\n",
       " 'Dictionaries.ipynb',\n",
       " 'Control_Flow_Statements .ipynb',\n",
       " 'function_advanced.ipynb',\n",
       " 'iterator generator.ipynb',\n",
       " 'test.txt',\n",
       " '.ipynb_checkpoints',\n",
       " 'for loops while loop.ipynb',\n",
       " '~$thon_Basic.docx',\n",
       " 'iterable_iterator_generator.ipynb',\n",
       " 'Condition_if_for_while.ipynb']"
      ]
     },
     "execution_count": 68,
     "metadata": {},
     "output_type": "execute_result"
    }
   ],
   "source": [
    "import os\n",
    "def file_name(path):\n",
    "    '''this function take the file name \n",
    "    from the directory as a input\n",
    "    '''\n",
    "    return os.listdir(path)\n",
    "file_name(os.getcwd())"
   ]
  },
  {
   "cell_type": "markdown",
   "id": "c6088d60",
   "metadata": {},
   "source": [
    "## Question: 8\n",
    "write a function which will be able to show your system configuration ."
   ]
  },
  {
   "cell_type": "code",
   "execution_count": 71,
   "id": "3befb26f",
   "metadata": {},
   "outputs": [
    {
     "data": {
      "text/plain": [
       "uname_result(system='Darwin', node='Hossains-MBP', release='21.1.0', version='Darwin Kernel Version 21.1.0: Wed Oct 13 17:33:24 PDT 2021; root:xnu-8019.41.5~1/RELEASE_ARM64_T8101', machine='arm64')"
      ]
     },
     "execution_count": 71,
     "metadata": {},
     "output_type": "execute_result"
    }
   ],
   "source": [
    "import platform as pl\n",
    "def sysconfig_fun():\n",
    "    '''show the system configuration'''\n",
    "    return pl.uname()\n",
    "\n",
    "sysconfig_fun()"
   ]
  },
  {
   "cell_type": "markdown",
   "id": "349cac74",
   "metadata": {},
   "source": [
    "## Question: 9\n",
    "write a function which will be able to show date and time ."
   ]
  },
  {
   "cell_type": "code",
   "execution_count": 73,
   "id": "70d0ebe4",
   "metadata": {},
   "outputs": [
    {
     "name": "stdout",
     "output_type": "stream",
     "text": [
      "time.struct_time(tm_year=2022, tm_mon=2, tm_mday=2, tm_hour=20, tm_min=19, tm_sec=38, tm_wday=2, tm_yday=33, tm_isdst=0)\n"
     ]
    },
    {
     "data": {
      "text/plain": [
       "'The date is 2022-2-2 and the time is 20-19-38'"
      ]
     },
     "execution_count": 73,
     "metadata": {},
     "output_type": "execute_result"
    }
   ],
   "source": [
    "import subprocess as ab\n",
    "from subprocess import time\n",
    "def date_time():\n",
    "    '''show the system date and time'''\n",
    "    a=time.localtime()\n",
    "    print(a)\n",
    "    Date=str(a[0])+'-'+str(a[1])+'-'+str(a[2])\n",
    "    Time=str(a[3])+'-'+str(a[4])+'-'+str(a[5])\n",
    "    return f'The date is {Date} and the time is {Time}'\n",
    "\n",
    "date_time()\n",
    "    "
   ]
  },
  {
   "cell_type": "markdown",
   "id": "1bf689ba",
   "metadata": {},
   "source": [
    "## Question: 10\n",
    "write a function whihc will be able to read a image file and show it to you."
   ]
  },
  {
   "cell_type": "code",
   "execution_count": 76,
   "id": "7c298ba8",
   "metadata": {},
   "outputs": [
    {
     "data": {
      "image/png": "[encoded data removed]",
      "text/plain": [
       "<PIL.JpegImagePlugin.JpegImageFile image mode=RGB size=318x159 at 0x1082E01C0>"
      ]
     },
     "metadata": {},
     "output_type": "display_data"
    }
   ],
   "source": [
    "import PIL\n",
    "from PIL import Image\n",
    "def img_fun(filename):\n",
    "    '''show the image file'''\n",
    "    img=Image.open(filename,'r')\n",
    "    return display(img)\n",
    "#filename=input('Please enter the image')\n",
    "filename='/Users/mdsanowarhossain/Documents/python/Python_Basic/image.jpg'\n",
    "img_fun(filename)"
   ]
  },
  {
   "cell_type": "markdown",
   "id": "fb3f996b",
   "metadata": {},
   "source": [
    "## Question: 11\n",
    "write a function which can read video file and play for you ."
   ]
  },
  {
   "cell_type": "code",
   "execution_count": null,
   "id": "cdb3c0ed",
   "metadata": {},
   "outputs": [],
   "source": [
    "import cv2\n",
    "\n",
    "def video_fun(video_path):\n",
    "    video=cv2.VideoCapture(video_path)\n",
    "    \n",
    "    while(video.isOpened()):\n",
    "        #Capturing the video frame by frame\n",
    "        ret, frame=video.read()\n",
    "        if ret==True:\n",
    "            cv2.imshow('Frame',Frame)# showing the display of current frame\n",
    "            if cv2.waitKey(25) & 0xFF('x'): ##press x for exist the video\n",
    "                break\n",
    "        else:\n",
    "            break\n",
    "    video.release()\n",
    "    cv2.destroyAllWindows()\n",
    "\n",
    "video_fun(video_path)"
   ]
  },
  {
   "cell_type": "markdown",
   "id": "091a513e",
   "metadata": {},
   "source": [
    "## Question: 12\n",
    "write a function whihc can move a file from one directory to another directory ."
   ]
  },
  {
   "cell_type": "code",
   "execution_count": 78,
   "id": "fe53ba56",
   "metadata": {},
   "outputs": [],
   "source": [
    "import shutil\n",
    "\n",
    "def filemove_fun(src_path,dest_path):\n",
    "    '''move a file from one directory to another directory'''\n",
    "    shutil.move(src_path, dest_path)\n",
    "    \n",
    "src_path='/Users/mdsanowarhossain/Documents/python/Pandas/pandas data manupulation.ipynb'\n",
    "dest_path='/Users/mdsanowarhossain/Documents/python/Python_Basic'\n",
    "\n",
    "filemove_fun(src_path,dest_path)"
   ]
  },
  {
   "cell_type": "markdown",
   "id": "5f4b8431",
   "metadata": {},
   "source": [
    "## Question: 13\n",
    "write a function which will be able to shutdonw your system."
   ]
  },
  {
   "cell_type": "code",
   "execution_count": null,
   "id": "29d45dce",
   "metadata": {},
   "outputs": [],
   "source": [
    "import os\n",
    "def shutdown_fun():\n",
    "    '''The function will shutdown the system'''\n",
    "    os.sysyem('shutdown /s/t 1')# delay 1 second\n",
    "\n",
    "shutdown_fun()"
   ]
  },
  {
   "cell_type": "markdown",
   "id": "4a29e8f9",
   "metadata": {},
   "source": [
    "## Question: 14\n",
    "write a function which will be able to access your mail."
   ]
  },
  {
   "cell_type": "code",
   "execution_count": null,
   "id": "d40401b8",
   "metadata": {},
   "outputs": [],
   "source": [
    "def email_access_fun():\n",
    "    '''This function work email access'''"
   ]
  },
  {
   "cell_type": "markdown",
   "id": "485e9164",
   "metadata": {},
   "source": [
    "## Question: 15\n",
    "write a func by whcih i can send a mail to anyone"
   ]
  },
  {
   "cell_type": "code",
   "execution_count": 8,
   "id": "1bbe92b6",
   "metadata": {},
   "outputs": [
    {
     "ename": "ModuleNotFoundError",
     "evalue": "No module named 'easyimap'",
     "output_type": "error",
     "traceback": [
      "\u001b[0;31m---------------------------------------------------------------------------\u001b[0m",
      "\u001b[0;31mModuleNotFoundError\u001b[0m                       Traceback (most recent call last)",
      "\u001b[0;32m/var/folders/70/xyz7khq54gx8qklx52wtt6tw0000gn/T/ipykernel_2968/941091037.py\u001b[0m in \u001b[0;36m<module>\u001b[0;34m\u001b[0m\n\u001b[0;32m----> 1\u001b[0;31m \u001b[0;32mimport\u001b[0m \u001b[0measyimap\u001b[0m \u001b[0;32mas\u001b[0m \u001b[0me\u001b[0m\u001b[0;34m\u001b[0m\u001b[0;34m\u001b[0m\u001b[0m\n\u001b[0m\u001b[1;32m      2\u001b[0m \u001b[0;32mdef\u001b[0m \u001b[0memail_access\u001b[0m\u001b[0;34m(\u001b[0m\u001b[0muser\u001b[0m\u001b[0;34m,\u001b[0m \u001b[0mpasswd\u001b[0m\u001b[0;34m,\u001b[0m \u001b[0mmailNo\u001b[0m\u001b[0;34m=\u001b[0m\u001b[0;36m0\u001b[0m\u001b[0;34m)\u001b[0m\u001b[0;34m:\u001b[0m\u001b[0;34m\u001b[0m\u001b[0;34m\u001b[0m\u001b[0m\n\u001b[1;32m      3\u001b[0m     \u001b[0mserver\u001b[0m\u001b[0;34m=\u001b[0m\u001b[0me\u001b[0m\u001b[0;34m.\u001b[0m\u001b[0mconnect\u001b[0m\u001b[0;34m(\u001b[0m\u001b[0;34m'imap.gmail.com'\u001b[0m\u001b[0;34m,\u001b[0m\u001b[0muser\u001b[0m\u001b[0;34m,\u001b[0m\u001b[0mpasswd\u001b[0m\u001b[0;34m)\u001b[0m\u001b[0;34m\u001b[0m\u001b[0;34m\u001b[0m\u001b[0m\n\u001b[1;32m      4\u001b[0m     \u001b[0mmail\u001b[0m\u001b[0;34m=\u001b[0m\u001b[0mserver\u001b[0m\u001b[0;34m.\u001b[0m\u001b[0mmail\u001b[0m\u001b[0;34m(\u001b[0m\u001b[0mserver\u001b[0m\u001b[0;34m.\u001b[0m\u001b[0mlistids\u001b[0m\u001b[0;34m(\u001b[0m\u001b[0;34m)\u001b[0m\u001b[0;34m[\u001b[0m\u001b[0mmailNo\u001b[0m\u001b[0;34m]\u001b[0m\u001b[0;34m)\u001b[0m\u001b[0;34m\u001b[0m\u001b[0;34m\u001b[0m\u001b[0m\n\u001b[1;32m      5\u001b[0m \u001b[0;34m\u001b[0m\u001b[0m\n",
      "\u001b[0;31mModuleNotFoundError\u001b[0m: No module named 'easyimap'"
     ]
    }
   ],
   "source": [
    "import easyimap as e\n",
    "def email_access(user, passwd, mailNo=0):\n",
    "    server=e.connect('imap.gmail.com',user,passwd)\n",
    "    mail=server.mail(server.listids()[mailNo])\n",
    "    \n",
    "    print('Sender:\\n',mail.from_addr)\n",
    "    print('\\nTitle\\n',mail.title)\n",
    "    print('\\nBody\\n',mail.body)\n",
    "\n",
    "user='mmgjgjk@gmail.com'\n",
    "passwd=''\n",
    "email_access(user, passwd)\n",
    "\n",
    "Sender:\n",
    "    Sanowar Hossain <md.sanowar21@gmail.com>\n",
    "Title:\n",
    "    Python Programming\n",
    "Body:\n",
    "    Hello, How are you\n",
    "\n",
    "thanks"
   ]
  },
  {
   "cell_type": "markdown",
   "id": "9704af69",
   "metadata": {},
   "source": [
    "## Question: 16\n",
    "write a func to read a complete PDf file."
   ]
  },
  {
   "cell_type": "code",
   "execution_count": 87,
   "id": "15908330",
   "metadata": {},
   "outputs": [
    {
     "name": "stdout",
     "output_type": "stream",
     "text": [
      "<_io.BufferedReader name=\"/Users/mdsanowarhossain/Documents/Master's_Thesis/Agriculture/read_paper/Murugan.pdf\">\n",
      "1S.Vijayalakshmi, D.Murugan: \n",
      "CROP DISEASE DETECTI\n",
      "ON AND CLASSIFICATIO\n",
      "N BASED ON HYBRID \n",
      "INFORMATION \n",
      "APPROACH\n",
      " Informatol. 51, 2018., 1\n",
      "-2,\n",
      " 1-12\n",
      " ISSN\n",
      " 1330\n",
      "-0067\n",
      "                                                                                                                             \n",
      "                                             \n",
      "Coden: IORME7\n",
      "   INFO\n",
      "-2184                                                                                                                      \n",
      "                                             \n",
      "        \n",
      "              \n",
      "     \n",
      "UDK:\n",
      " 581.2:632.9\n",
      " Primljeno/Received: 2017\n",
      "-05\n",
      "-03                                                                               \n",
      "              \n",
      " Original Scientific Paper / \n",
      "Izvorni\n",
      " znanstveni rad\n",
      "  CROP DISEASE DETECTI\n",
      "ON AND CLASSIFICATIO\n",
      "N BA\n",
      "SED ON HYBRID \n",
      "INFORMATION \n",
      "APPROACH\n",
      " OTKRIVANJE I KLASIFI\n",
      "KACIJA BOLESTI USJEV\n",
      "A NA TEMELJU \n",
      "INFORMACIJSKOG \n",
      "HIBRIDNOG PRISTUPA\n",
      "  S.Vijayalakshmi, D.Murugan\n",
      " Department of Computer Science and Engineering,Manonmaniam Sundaran\n",
      "ar University,Tirunelveli\n",
      ", India\n",
      " Odjel \n",
      "\n",
      "  Abstract\n",
      " The objective of this paper to identify the diseases \n",
      "in the leaves of the all plants. Plant disease diag-\n",
      "nosis helps to improve both the quality and quan-\n",
      "tity of crop productivity. In existing, to detect the \n",
      "\n",
      "diseases they used the spectroscopic techniques. \n",
      "These techniques are very expensive and can only \n",
      "be utilized by trained persons only. This work \n",
      "proposes an approach for the detection of leaf \n",
      "diseases based on the characterization of texture, \n",
      "shape and color properties. The detection of dis-\n",
      "eases which are\n",
      " detected using ISRC(improved \n",
      "sparse Representation Classifier) technique. First \n",
      "the GENABC clustering approach is applied to \n",
      "the input image to segment the affected area. \n",
      "Then extract the features from the affected area \n",
      "by using feature extraction techniq\n",
      "ues. In this \n",
      "paper Improved Transform Encoded Local Pat-\n",
      "tern used to extract the texture feature, Enhanced \n",
      "Gradient Feature (EGF) to extract the shape and \n",
      "Improved Color Histogram Techniques(ICH) are \n",
      "used to extract the color. And then these features \n",
      "are gi\n",
      "ven to the ISRC classifier to get the exact \n",
      "type of disease on affected leaves. To analyze the \n",
      "performance of the proposed method we use four \n",
      "metrices. They are classification accuracy, error \n",
      "rate, precision value and recall value. From the \n",
      "analysis of exp\n",
      "erimental results ISRC method \n",
      "provides best res\n",
      "ult than the existing approach.\n",
      " \n",
      " Cilj ovog rada je identificirati bolesti u listovima \n",
      "\n",
      "\n",
      "usjeva. Za otkrivanje\n",
      " bolesti koriste se spektros-\n",
      "kopske tehnike. Te tehnike su vrlo skupe i mogu \n",
      "\n",
      "\n",
      "ju karakterizacije svojstava teksture, oblika i boja. \n",
      "Otkrivanje bolesti koje se de\n",
      "tektiraju uporabom \n",
      "ISRC tehnike. Najprije se primjenjuje GENABC \n",
      "klastering pristup na ulaznu sliku za segmen-\n",
      "\n",
      "\n",
      "\n",
      "\n",
      "poboljı\n",
      "ana transformirana enkodirana lokalna \n",
      "\n",
      "jki\n",
      " teks-\n",
      "\n",
      "boja (ICH) za izdvajanje boje. \n",
      "Zatim\n",
      " se ove \n",
      "\n",
      "atoru kako bi dobili \n",
      "\n",
      " \n",
      "u. Za ana-\n",
      "\n",
      "\n",
      "\n",
      "analize eksperimentalni\n",
      "h rezultata ISRC metoda \n",
      "da\n",
      "je \n",
      "\n",
      "    1. Introduction\n",
      "  Agriculture plays a vital \n",
      "role in the life of an \n",
      "economy. It is the backbone of our economic sys-\n",
      "tem. The diseases on leaf can reduce both the \n",
      "quality and quantity of crops and their future \n",
      "growth. Against the background of parasitic dis-\n",
      "eases, plant diseases, the physiological condi\n",
      "tions \n",
      "of changing dirty tissue, for example, photosyn-\n",
      "\n",
      "thesis changes, neurons, dental contacts, salitsilitsi \n",
      "corrosive and even cellular approval. The absence \n",
      "of sheets can be marked especially from optical \n",
      "sensors today. Use fluorescent light reflected im-\n",
      "ages of mushrooms, cucumber leaves, cucumber \n",
      "and yogurt from isolated wheat. However, infra-\n",
      "red can be slightly improved with the region and \n",
      "\n"
     ]
    }
   ],
   "source": [
    "import PyPDF2 as pdf\n",
    "\n",
    "def read_pdf_fun(filename):\n",
    "    '''The function read pdf file'''\n",
    "    f = open(filename+'.pdf','rb')\n",
    "    print(f)\n",
    "    f_read=pdf.PdfFileReader(f)\n",
    "    f_page=f_read.getPage(0)\n",
    "    print(f_page.extractText())\n",
    "    f.close()\n",
    "filename=\"/Users/mdsanowarhossain/Documents/Master's_Thesis/Agriculture/read_paper/Murugan\"\n",
    "read_pdf_fun(filename)"
   ]
  },
  {
   "cell_type": "markdown",
   "id": "13c8e69a",
   "metadata": {},
   "source": [
    "## Question: 17\n",
    "a function to read a word file ."
   ]
  },
  {
   "cell_type": "code",
   "execution_count": 95,
   "id": "dc0d3df6",
   "metadata": {},
   "outputs": [
    {
     "ename": "FileNotFoundError",
     "evalue": "[Errno 2] No such file or directory: \"/Users/mdsanowarhossain/Documents/Master's_Thesis/Agriculture/Agro_website.doc$\"",
     "output_type": "error",
     "traceback": [
      "\u001b[0;31m---------------------------------------------------------------------------\u001b[0m",
      "\u001b[0;31mFileNotFoundError\u001b[0m                         Traceback (most recent call last)",
      "\u001b[0;32m/var/folders/70/xyz7khq54gx8qklx52wtt6tw0000gn/T/ipykernel_98041/3555375162.py\u001b[0m in \u001b[0;36m<module>\u001b[0;34m\u001b[0m\n\u001b[1;32m      6\u001b[0m \u001b[0mfilename\u001b[0m\u001b[0;34m=\u001b[0m\u001b[0;34m\"/Users/mdsanowarhossain/Documents/Master's_Thesis/Agriculture/Agro_website\"\u001b[0m\u001b[0;34m\u001b[0m\u001b[0;34m\u001b[0m\u001b[0m\n\u001b[1;32m      7\u001b[0m \u001b[0;34m\u001b[0m\u001b[0m\n\u001b[0;32m----> 8\u001b[0;31m \u001b[0mword_fun\u001b[0m\u001b[0;34m(\u001b[0m\u001b[0mfilename\u001b[0m\u001b[0;34m)\u001b[0m\u001b[0;34m\u001b[0m\u001b[0;34m\u001b[0m\u001b[0m\n\u001b[0m",
      "\u001b[0;32m/var/folders/70/xyz7khq54gx8qklx52wtt6tw0000gn/T/ipykernel_98041/3555375162.py\u001b[0m in \u001b[0;36mword_fun\u001b[0;34m(a)\u001b[0m\n\u001b[1;32m      1\u001b[0m \u001b[0;32mdef\u001b[0m \u001b[0mword_fun\u001b[0m\u001b[0;34m(\u001b[0m\u001b[0ma\u001b[0m\u001b[0;34m)\u001b[0m\u001b[0;34m:\u001b[0m\u001b[0;34m\u001b[0m\u001b[0;34m\u001b[0m\u001b[0m\n\u001b[1;32m      2\u001b[0m     \u001b[0;34m'''Function read word document'''\u001b[0m\u001b[0;34m\u001b[0m\u001b[0;34m\u001b[0m\u001b[0m\n\u001b[0;32m----> 3\u001b[0;31m     \u001b[0mf\u001b[0m\u001b[0;34m=\u001b[0m\u001b[0mopen\u001b[0m\u001b[0;34m(\u001b[0m\u001b[0mfilename\u001b[0m\u001b[0;34m+\u001b[0m\u001b[0;34m'.doc$'\u001b[0m\u001b[0;34m,\u001b[0m\u001b[0;34m'r'\u001b[0m\u001b[0;34m)\u001b[0m\u001b[0;34m\u001b[0m\u001b[0;34m\u001b[0m\u001b[0m\n\u001b[0m\u001b[1;32m      4\u001b[0m     \u001b[0mprint\u001b[0m\u001b[0;34m(\u001b[0m\u001b[0mf\u001b[0m\u001b[0;34m.\u001b[0m\u001b[0mread\u001b[0m\u001b[0;34m(\u001b[0m\u001b[0;34m)\u001b[0m\u001b[0;34m)\u001b[0m\u001b[0;34m\u001b[0m\u001b[0;34m\u001b[0m\u001b[0m\n\u001b[1;32m      5\u001b[0m \u001b[0;34m\u001b[0m\u001b[0m\n",
      "\u001b[0;31mFileNotFoundError\u001b[0m: [Errno 2] No such file or directory: \"/Users/mdsanowarhossain/Documents/Master's_Thesis/Agriculture/Agro_website.doc$\""
     ]
    }
   ],
   "source": [
    "def word_fun(a):\n",
    "    '''Function read word document'''\n",
    "    f=open(filename+'.doc$','r')\n",
    "    print(f.read())\n",
    "\n",
    "filename=\"/Users/mdsanowarhossain/Documents/Master's_Thesis/Agriculture/Agro_website\"\n",
    "\n",
    "word_fun(filename)"
   ]
  },
  {
   "cell_type": "markdown",
   "id": "8de5b655",
   "metadata": {},
   "source": [
    "## Question: 18\n",
    "write a function which can help you to filter only word file from a directory ."
   ]
  },
  {
   "cell_type": "code",
   "execution_count": 100,
   "id": "8e90735f",
   "metadata": {},
   "outputs": [
    {
     "name": "stdout",
     "output_type": "stream",
     "text": [
      "Python_Basic.docx\n",
      "~$thon_Basic.docx\n"
     ]
    }
   ],
   "source": [
    "import os\n",
    "def filter_folder():\n",
    "    '''Function work filter folder file'''\n",
    "    for i in os.listdir():\n",
    "        if i.endswith('.docx'):\n",
    "            print(i)\n",
    "filter_folder()"
   ]
  },
  {
   "cell_type": "markdown",
   "id": "360f3853",
   "metadata": {},
   "source": [
    "## Question: 19\n",
    "write a function by which you can print an ip address of your system ."
   ]
  },
  {
   "cell_type": "code",
   "execution_count": 101,
   "id": "7e11a395",
   "metadata": {},
   "outputs": [
    {
     "name": "stdout",
     "output_type": "stream",
     "text": [
      "System name is Hossains-MBP and ip address is 192.168.0.244\n"
     ]
    }
   ],
   "source": [
    "import socket\n",
    "def ipaddress_fun():\n",
    "    '''Function work as print an ip address'''\n",
    "    name=socket.gethostname()\n",
    "    ip_address=socket.gethostbyname(name)\n",
    "    print(f'System name is {name} and ip address is {ip_address}')\n",
    "\n",
    "    \n",
    "ipaddress_fun()          "
   ]
  },
  {
   "cell_type": "markdown",
   "id": "d523a38a",
   "metadata": {},
   "source": [
    "## Question: 20\n",
    "write a function by which you will be able to append two PDF files ."
   ]
  },
  {
   "cell_type": "code",
   "execution_count": null,
   "id": "51563475",
   "metadata": {},
   "outputs": [],
   "source": []
  }
 ],
 "metadata": {
  "kernelspec": {
   "display_name": "Python 3.9 (tensorflow)",
   "language": "python",
   "name": "tensorflow"
  },
  "language_info": {
   "codemirror_mode": {
    "name": "ipython",
    "version": 3
   },
   "file_extension": ".py",
   "mimetype": "text/x-python",
   "name": "python",
   "nbconvert_exporter": "python",
   "pygments_lexer": "ipython3",
   "version": "3.9.7"
  }
 },
 "nbformat": 4,
 "nbformat_minor": 5
}
